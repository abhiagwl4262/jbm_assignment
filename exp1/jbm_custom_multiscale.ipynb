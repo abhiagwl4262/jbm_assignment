{
 "cells": [
  {
   "cell_type": "code",
   "execution_count": 26,
   "metadata": {},
   "outputs": [],
   "source": [
    "import os\n",
    "os.environ[\"CUDA_VISIBLE_DEVICES\"] = \"0\"\n",
    "\n",
    "import warnings\n",
    "warnings.filterwarnings('ignore')\n",
    "\n",
    "import numpy as np \n",
    "import pandas as pd\n",
    "import matplotlib.pyplot as plt\n",
    "\n",
    "from keras.models import Sequential\n",
    "from keras.layers import Dense, Dropout, Flatten\n",
    "from keras.layers import Conv2D, MaxPooling2D\n",
    "from keras.layers.normalization import BatchNormalization\n",
    "\n",
    "from keras.preprocessing.image import ImageDataGenerator\n",
    "from keras.preprocessing.image import img_to_array\n",
    "from keras.preprocessing.image import load_img\n",
    "\n",
    "from spp.SpatialPyramidPooling import SpatialPyramidPooling\n",
    "from keras.layers import Dense, GlobalAveragePooling2D\n",
    "from keras.optimizers import Adam\n",
    "from keras.metrics import categorical_crossentropy\n",
    "\n",
    "from sklearn.model_selection import train_test_split\n",
    "\n",
    "from tqdm import tqdm\n",
    "\n",
    "from os import makedirs\n",
    "from os.path import expanduser, exists, join"
   ]
  },
  {
   "cell_type": "code",
   "execution_count": 9,
   "metadata": {
    "collapsed": true
   },
   "outputs": [],
   "source": [
    "batch_size = 16\n",
    "img_width, img_height = 256, 256\n",
    "num_classes = 2\n",
    "n_epoches = 100\n",
    "input_shape = (img_height, img_width, 3)"
   ]
  },
  {
   "cell_type": "code",
   "execution_count": 10,
   "metadata": {
    "collapsed": true
   },
   "outputs": [],
   "source": [
    "train_data_dir = \"../data/train\"\n",
    "valid_data_dir = \"../data/valid\""
   ]
  },
  {
   "cell_type": "code",
   "execution_count": 11,
   "metadata": {},
   "outputs": [
    {
     "name": "stdout",
     "output_type": "stream",
     "text": [
      "Found 204 images belonging to 2 classes.\n",
      "Found 204 images belonging to 2 classes.\n",
      "Found 204 images belonging to 2 classes.\n",
      "Found 46 images belonging to 2 classes.\n",
      "('train data: ', 204)\n",
      "('train data: ', 204)\n",
      "('train data: ', 204)\n",
      "('valid data: ', 46)\n"
     ]
    }
   ],
   "source": [
    "train_datagen = ImageDataGenerator(rescale=1./255, \n",
    "                                featurewise_center=False,  # set input mean to 0 over the dataset\n",
    "                                samplewise_center=True,  # set each sample mean to 0\n",
    "                                featurewise_std_normalization=False,  # divide inputs by std of the dataset\n",
    "                                samplewise_std_normalization=True,  # divide each input by its std\n",
    "#                                 zca_whitening=False,  # apply ZCA whitening\n",
    "#                                 rotation_range=0,  # randomly rotate images in the range (degrees, 0 to 180)\n",
    "                                width_shift_range=0.1,  # randomly shift images horizontally (fraction of total width)\n",
    "                                height_shift_range=0.1,  # randomly shift images vertically (fraction of total height)\n",
    "                                horizontal_flip=True,  # randomly flip images\n",
    "                                vertical_flip=True) # randomly flip images                                \n",
    "\n",
    "train_generator0 = train_datagen.flow_from_directory(train_data_dir,\n",
    "                                                    target_size=(img_height, img_width),\n",
    "                                                    batch_size=batch_size,\n",
    "                                                    seed=10)\n",
    "train_generator1 = train_datagen.flow_from_directory(train_data_dir,\n",
    "                                                    target_size=(img_height*2, img_width*2),\n",
    "                                                    batch_size=batch_size,\n",
    "                                                    seed=10)\n",
    "train_generator2 = train_datagen.flow_from_directory(train_data_dir,\n",
    "                                                    target_size=(img_height*4, img_width*4),\n",
    "                                                    batch_size=batch_size,\n",
    "                                                    seed=10)\n",
    "\n",
    "val_datagen = ImageDataGenerator(rescale=1. / 255)\n",
    "\n",
    "valid_generator = val_datagen.flow_from_directory(valid_data_dir,\n",
    "                                                target_size=(img_height, img_width),\n",
    "                                                batch_size=batch_size,\n",
    "                                                seed=10)\n",
    "\n",
    "print (\"train data: \", train_generator0.n)\n",
    "print (\"train data: \", train_generator1.n)\n",
    "print (\"train data: \", train_generator2.n)\n",
    "print (\"valid data: \", valid_generator.n)"
   ]
  },
  {
   "cell_type": "code",
   "execution_count": 20,
   "metadata": {
    "collapsed": true
   },
   "outputs": [],
   "source": [
    "class MixIterator(object):\n",
    "    def __init__(self, iters):\n",
    "        self.iters = iters\n",
    "        self.N = sum([it.n for it in self.iters])\n",
    "        \n",
    "    def reset(self):\n",
    "        for it in self.iters: it.reset()\n",
    "            \n",
    "    def __iter__(self):\n",
    "        return self\n",
    "    \n",
    "    def next(self, *args, **kwargs):\n",
    "        nexts = [next(it) for it in self.iters]\n",
    "        n0 = np.concatenate([n[0] for n in nexts])\n",
    "        n1 = np.concatenate([n[1] for n in nexts])\n",
    "        n2 = np.concatenate([n[2] for n in nexts])\n",
    "        return (n0,n1,n2)\n",
    "\n",
    "mi = MixIterator([train_generator0, train_generator1,train_generator2])"
   ]
  },
  {
   "cell_type": "code",
   "execution_count": 45,
   "metadata": {
    "collapsed": true
   },
   "outputs": [],
   "source": [
    "def create_baseline():\n",
    "    # create model  \n",
    "    model = Sequential()\n",
    "    BatchNormalization(epsilon=1e-06, mode=0, momentum=0.9, weights=None)\n",
    "    model.add(Conv2D(32, kernel_size=(3, 3),activation='relu', input_shape=input_shape, padding = 'same'))\n",
    "    model.add(BatchNormalization(epsilon=1e-06, mode=0, momentum=0.9, weights=None))\n",
    "\n",
    "    model.add(Conv2D(64, (3, 3), activation='relu', padding = 'same'))\n",
    "#     model.add(MaxPooling2D(pool_size=(2, 2)))\n",
    "    model.add(BatchNormalization(epsilon=1e-06, mode=0, momentum=0.9, weights=None))\n",
    "\n",
    "    model.add(Conv2D(128, kernel_size=(3, 3),activation='relu', padding = 'same'))\n",
    "#     model.add(MaxPooling2D(pool_size=(2, 2)))\n",
    "    model.add(BatchNormalization(epsilon=1e-06, mode=0, momentum=0.9, weights=None))\n",
    "\n",
    "    model.add(Conv2D(256, (3, 3), activation='relu', padding = 'same'))\n",
    "    model.add(MaxPooling2D(pool_size=(2, 2)))\n",
    "    model.add(BatchNormalization(epsilon=1e-06, mode=0, momentum=0.9, weights=None))\n",
    "\n",
    "    model.add(Conv2D(512, (3, 3), activation='relu', padding = 'same'))\n",
    "    model.add(BatchNormalization(epsilon=1e-06, mode=0, momentum=0.9, weights=None))  \n",
    "    model.add(MaxPooling2D(pool_size=(2, 2)))\n",
    "\n",
    "    model.add(Conv2D(num_classes, kernel_size=(3, 3), activation='relu', padding='same'))\n",
    "    model.add(MaxPooling2D(pool_size=(2, 2)))\n",
    "    model.add(SpatialPyramidPooling([1, 2, 4]))\n",
    "#     model.add(GlobalAveragePooling2D())\n",
    "    model.add(Dense(num_classes, activation='softmax'))\n",
    "    return model"
   ]
  },
  {
   "cell_type": "code",
   "execution_count": 46,
   "metadata": {},
   "outputs": [
    {
     "name": "stdout",
     "output_type": "stream",
     "text": [
      "_________________________________________________________________\n",
      "Layer (type)                 Output Shape              Param #   \n",
      "=================================================================\n",
      "conv2d_67 (Conv2D)           (None, 256, 256, 32)      896       \n",
      "_________________________________________________________________\n",
      "batch_normalization_68 (Batc (None, 256, 256, 32)      128       \n",
      "_________________________________________________________________\n",
      "conv2d_68 (Conv2D)           (None, 256, 256, 64)      18496     \n",
      "_________________________________________________________________\n",
      "batch_normalization_69 (Batc (None, 256, 256, 64)      256       \n",
      "_________________________________________________________________\n",
      "conv2d_69 (Conv2D)           (None, 256, 256, 128)     73856     \n",
      "_________________________________________________________________\n",
      "batch_normalization_70 (Batc (None, 256, 256, 128)     512       \n",
      "_________________________________________________________________\n",
      "conv2d_70 (Conv2D)           (None, 256, 256, 256)     295168    \n",
      "_________________________________________________________________\n",
      "max_pooling2d_42 (MaxPooling (None, 128, 128, 256)     0         \n",
      "_________________________________________________________________\n",
      "batch_normalization_71 (Batc (None, 128, 128, 256)     1024      \n",
      "_________________________________________________________________\n",
      "conv2d_71 (Conv2D)           (None, 128, 128, 512)     1180160   \n",
      "_________________________________________________________________\n",
      "batch_normalization_72 (Batc (None, 128, 128, 512)     2048      \n",
      "_________________________________________________________________\n",
      "max_pooling2d_43 (MaxPooling (None, 64, 64, 512)       0         \n",
      "_________________________________________________________________\n",
      "conv2d_72 (Conv2D)           (None, 64, 64, 2)         9218      \n",
      "_________________________________________________________________\n",
      "max_pooling2d_44 (MaxPooling (None, 32, 32, 2)         0         \n",
      "_________________________________________________________________\n",
      "spatial_pyramid_pooling_6 (S (None, 42)                0         \n",
      "_________________________________________________________________\n",
      "dense_6 (Dense)              (None, 2)                 86        \n",
      "=================================================================\n",
      "Total params: 1,581,848\n",
      "Trainable params: 1,579,864\n",
      "Non-trainable params: 1,984\n",
      "_________________________________________________________________\n"
     ]
    }
   ],
   "source": [
    "base_model = create_baseline()\n",
    "base_model.summary()"
   ]
  },
  {
   "cell_type": "code",
   "execution_count": 47,
   "metadata": {
    "collapsed": true
   },
   "outputs": [],
   "source": [
    "base_model.compile(Adam(lr=.001, decay=1e-5), loss='categorical_crossentropy', metrics=['accuracy'])"
   ]
  },
  {
   "cell_type": "code",
   "execution_count": null,
   "metadata": {
    "collapsed": true
   },
   "outputs": [],
   "source": [
    "base_model.save_weights(\"jbm_custom_weights_15.h5\")"
   ]
  },
  {
   "cell_type": "code",
   "execution_count": null,
   "metadata": {},
   "outputs": [
    {
     "name": "stdout",
     "output_type": "stream",
     "text": [
      "Epoch 1/100\n"
     ]
    }
   ],
   "source": [
    "base_model.fit_generator(mi,\n",
    "                      steps_per_epoch = train_generator0.n // batch_size,\n",
    "                      validation_data = valid_generator,\n",
    "                      validation_steps = valid_generator.n // batch_size,\n",
    "                      epochs = n_epoches,\n",
    "                      verbose = 1)"
   ]
  },
  {
   "cell_type": "code",
   "execution_count": null,
   "metadata": {
    "collapsed": true
   },
   "outputs": [],
   "source": [
    "base_model.save_weights(\"jbm_inception_weights_5.h5\")"
   ]
  }
 ],
 "metadata": {
  "kernelspec": {
   "display_name": "Python 2",
   "language": "python",
   "name": "python2"
  },
  "language_info": {
   "codemirror_mode": {
    "name": "ipython",
    "version": 2
   },
   "file_extension": ".py",
   "mimetype": "text/x-python",
   "name": "python",
   "nbconvert_exporter": "python",
   "pygments_lexer": "ipython2",
   "version": "2.7.6"
  }
 },
 "nbformat": 4,
 "nbformat_minor": 2
}
